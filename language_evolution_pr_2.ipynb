{
 "cells": [
  {
   "cell_type": "code",
   "execution_count": null,
   "id": "042d702b",
   "metadata": {},
   "outputs": [],
   "source": [
    "!pip install lyricsgenius\n",
    "from bs4 import BeautifulSoup\n",
    "import requests\n",
    "import re\n",
    "import pandas as pd\n",
    "import numpy as np\n",
    "import spotipy\n",
    "from spotipy.oauth2 import SpotifyClientCredentials\n",
    "from lyricsgenius import Genius"
   ]
  },
  {
   "cell_type": "code",
   "execution_count": null,
   "id": "dfd484e4",
   "metadata": {},
   "outputs": [],
   "source": [
    "url_dave_30s = 'https://davesmusicdatabase.blogspot.com/2014/07/top-100-songs-of-1930-1939.html'\n",
    "\n",
    "headers = {\"User-Agent\": 'Mozilla/5.0 (Macintosh; Intel Mac OS X 10_11_5) AppleWebKit/537.36 (KHTML, like Gecko) Chrome/50.0.2661.102 Safari/537.36'}\n",
    "\n",
    "response = requests.get(url_dave_30, headers=headers)\n",
    "\n",
    "response.status_code"
   ]
  },
  {
   "cell_type": "code",
   "execution_count": null,
   "id": "377fb56f",
   "metadata": {},
   "outputs": [],
   "source": [
    "soup = BeautifulSoup(response.content)"
   ]
  },
  {
   "cell_type": "code",
   "execution_count": null,
   "id": "823da36d",
   "metadata": {
    "scrolled": false
   },
   "outputs": [],
   "source": [
    "tags"
   ]
  },
  {
   "cell_type": "code",
   "execution_count": null,
   "id": "b0a70c58",
   "metadata": {},
   "outputs": [],
   "source": [
    "#Obtengo un set de los tags presentes en el tag 'p'\n",
    "tags = soup.find_all(name=\"p\")\n",
    "\n",
    "#Separa en elementos de una lista las canciones.\n",
    "songs_30s = ''.join(i.text for i in tags[5:15]).split('\\n')\n",
    "songs_30 = tags[5].text.split('\\n')\n",
    "#Elimina los espacios de los extremos de cada elemento de la lista si\n",
    "#los hubiese y devuelve una lista nueva con cada elemento\n",
    "list_songs_30s = [i.strip() for i in songs_30s]\n",
    "\n",
    "#Elimina los elementos vacios de la lista\n",
    "list_songs_30s = list(filter(None, list_songs_30s))\n",
    "#songs_30s = songs.split('\\n')\n",
    "\n",
    "list_songs_30s"
   ]
  },
  {
   "cell_type": "code",
   "execution_count": null,
   "id": "0aed0b0e",
   "metadata": {},
   "outputs": [],
   "source": [
    "def list_songs_url(url):\n",
    "    headers = {\"User-Agent\": 'Mozilla/5.0 (Macintosh; Intel Mac OS X 10_11_5) AppleWebKit/537.36 (KHTML, like Gecko) Chrome/50.0.2661.102 Safari/537.36'}\n",
    "    response = requests.get(url, headers=headers)\n",
    "    soup = BeautifulSoup(response.content)\n",
    "    tags = soup.find_all(name=\"p\")\n",
    "    \n",
    "    #Separa en elementos de una lista las canciones.\n",
    "    songs = tags[5].text.split('\\n')\n",
    "    \n",
    "    #Elimina los espacios de los extremos de cada elemento de la lista si\n",
    "    #los hubiese y devuelve una lista nueva con cada elemento\n",
    "    songs = [i.strip() for i in songs]\n",
    "    \n",
    "    #Elimina los elementos vacios de la lista\n",
    "    songs = list(filter(None, songs))\n",
    "    return songs\n",
    "\n",
    "list_songs_url(url_dave)"
   ]
  },
  {
   "cell_type": "code",
   "execution_count": null,
   "id": "653d6ea6",
   "metadata": {},
   "outputs": [],
   "source": [
    "test_str = '81. The Peanut Vendor (El Manisero)...Don Azpiazu with Antonio Machin (1930)'\n",
    "\n",
    "#Recibe un string y devuelve el a;o de el string de la cancion\n",
    "def extract_year(song_string):\n",
    "    return song_string[-5:-1]\n",
    "\n",
    "extract_year(test_str)"
   ]
  },
  {
   "cell_type": "code",
   "execution_count": null,
   "id": "f6bcb94f",
   "metadata": {},
   "outputs": [],
   "source": [
    "#Recibe un string y devuelve el a;o de el string de la cancion\n",
    "def extract_decade(song_string):\n",
    "    return extract_year(song_string)[:3] + '0'\n",
    "\n",
    "extract_decade(test_str)"
   ]
  },
  {
   "cell_type": "code",
   "execution_count": null,
   "id": "1e0bcd96",
   "metadata": {},
   "outputs": [],
   "source": [
    "#Recibe un string y devuelve el orden de la cancion\n",
    "def extract_order(song_string):\n",
    "    return song_string[:3].replace('.','').strip()\n",
    "\n",
    "extract_order(test_str)"
   ]
  },
  {
   "cell_type": "code",
   "execution_count": null,
   "id": "fba62ed0",
   "metadata": {
    "scrolled": true
   },
   "outputs": [],
   "source": [
    "#Recibe un string y devuelve el titulo de la cancion\n",
    "def extract_title(song_string):\n",
    "    return re.findall('\\d+.\\s(.*)(?:\\.\\.\\.|\\…)',song_string)[0]\n",
    "\n",
    "extract_title(test_str)"
   ]
  },
  {
   "cell_type": "code",
   "execution_count": null,
   "id": "fb3571ef",
   "metadata": {},
   "outputs": [],
   "source": [
    "#Recibe un string y devuelve el autor de la cancion\n",
    "def extract_author(song_string):\n",
    "    return re.findall('(?:\\.\\.\\.|\\…)(.*)\\(',song_string)[0].split('with')[0].strip()\n",
    "\n",
    "extract_author(test_str)"
   ]
  },
  {
   "cell_type": "code",
   "execution_count": null,
   "id": "8278d2db",
   "metadata": {},
   "outputs": [],
   "source": [
    "def ext_data_songs(url_dave):\n",
    "    list_songs_dave = list_songs_url(url_dave)\n",
    "    formated_songs = []\n",
    "    for i in list_songs_dave:\n",
    "        decade = extract_decade(i)\n",
    "        year = extract_year(i)\n",
    "        title = extract_title(i)\n",
    "        author = extract_author(i)\n",
    "        order = extract_order(i)\n",
    "        \n",
    "        song = {\n",
    "            'decade':decade,\n",
    "            'year':year,\n",
    "            'title':title,\n",
    "            'author':author,\n",
    "            'order':order,\n",
    "        }\n",
    "        formated_songs.append(song)\n",
    "    return formated_songs\n",
    "\n",
    "ext_data_songs(url_dave_30)"
   ]
  },
  {
   "cell_type": "code",
   "execution_count": null,
   "id": "bfec0c5e",
   "metadata": {},
   "outputs": [],
   "source": [
    "dicc_30s = ext_data_songs(url_dave_30)\n",
    "df_30s = pd.DataFrame(dicc_30s)\n",
    "df_30s"
   ]
  },
  {
   "cell_type": "markdown",
   "id": "e0748ea0",
   "metadata": {},
   "source": [
    "# Spotify"
   ]
  },
  {
   "cell_type": "code",
   "execution_count": null,
   "id": "577c0b39",
   "metadata": {},
   "outputs": [],
   "source": [
    "sp = spotipy.Spotify(auth_manager=SpotifyClientCredentials(client_id=\"00e41fa4725d4469b29d9e36f43d7ec9\",\n",
    "                                                           client_secret=\"e64b15d24085495283f18937da5452d3\"))"
   ]
  },
  {
   "cell_type": "code",
   "execution_count": null,
   "id": "3dba445e",
   "metadata": {},
   "outputs": [],
   "source": [
    "def search_spoti(title, author):\n",
    "    search = sp.search(title + ' ' + author, market='US')\n",
    "    tracks = search['tracks']\n",
    "    df = pd.json_normalize(tracks['items'])\n",
    "    df = df[['id', 'name', 'popularity', 'artists', 'album.name', 'external_urls.spotify', 'uri', 'explicit', 'album.release_date', 'duration_ms']]\n",
    "    df['artists'] = df.artists.apply(lambda d: d[0]['name'])\n",
    "    return df.head(1)"
   ]
  },
  {
   "cell_type": "code",
   "execution_count": null,
   "id": "274a6ca2",
   "metadata": {},
   "outputs": [],
   "source": [
    "def songs_to_spoti_df(songs_df):\n",
    "    lista = []\n",
    "\n",
    "    for i in range(len(songs_df)):\n",
    "        try:\n",
    "            search = search_spoti(songs_df.loc[i, \"title\"], songs_df.loc[i, \"author\"])\n",
    "            lista.append(search)\n",
    "        except KeyError:\n",
    "            pass\n",
    "    \n",
    "    return pd.concat(lista, axis=0)\n",
    "\n",
    "songs_to_spoti_df(df_30s)"
   ]
  },
  {
   "cell_type": "markdown",
   "id": "55b85b70",
   "metadata": {},
   "source": [
    "# Genius"
   ]
  },
  {
   "cell_type": "code",
   "execution_count": null,
   "id": "47428619",
   "metadata": {},
   "outputs": [],
   "source": [
    "!pip install lyricsgenius"
   ]
  },
  {
   "cell_type": "code",
   "execution_count": null,
   "id": "50e74b7e",
   "metadata": {},
   "outputs": [],
   "source": [
    "import lyricsgenius\n",
    "genius = lyricsgenius.Genius(\n",
    "    'v3s3cdBYSN4Kta3F2HDTmdqqNOckKEZTQA5O5Bhb5J-BV_L02jqPGCEnvpKsSrBz')"
   ]
  },
  {
   "cell_type": "code",
   "execution_count": null,
   "id": "c1e76675",
   "metadata": {},
   "outputs": [],
   "source": [
    "artist = genius.search_artist(\"Judy Garland\", max_songs=3, sort=\"title\")"
   ]
  },
  {
   "cell_type": "code",
   "execution_count": null,
   "id": "ac366c5a",
   "metadata": {},
   "outputs": [],
   "source": [
    "song = artist.song(\"Over the Rainbow\")"
   ]
  },
  {
   "cell_type": "code",
   "execution_count": null,
   "id": "104466af",
   "metadata": {},
   "outputs": [],
   "source": [
    "song.lyrics"
   ]
  },
  {
   "cell_type": "code",
   "execution_count": null,
   "id": "6d83b637",
   "metadata": {},
   "outputs": [],
   "source": [
    "def get_lyrics(artist_name, song_name):\n",
    "    genius = lyricsgenius.Genius(\n",
    "    'v3s3cdBYSN4Kta3F2HDTmdqqNOckKEZTQA5O5Bhb5J-BV_L02jqPGCEnvpKsSrBz')\n",
    "    artist = genius.search_artist(artist_name, max_songs=0, sort=\"title\")\n",
    "    song = artist.song(song_name)\n",
    "    return re.sub(\"[\\(\\[].*?[\\)\\]]\", \"\", song.lyrics.replace('\\n', ' '))"
   ]
  },
  {
   "cell_type": "code",
   "execution_count": null,
   "id": "b4c59dfe",
   "metadata": {},
   "outputs": [],
   "source": [
    "get_lyrics(\"acdc\", \"back in black\")"
   ]
  },
  {
   "cell_type": "code",
   "execution_count": null,
   "id": "4689951d",
   "metadata": {},
   "outputs": [],
   "source": [
    "def get_df_with_lyrics(spoti_songs_df):\n",
    "    lyrics_list = []\n",
    "\n",
    "    for artist, song in zip(spoti_songs_df['artists'], spoti_songs_df['name']):\n",
    "        try:\n",
    "            lyrics_list.append(get_lyrics(artist, song))\n",
    "        except AttributeError:\n",
    "            lyrics_list.append('None')\n",
    "    \n",
    "    spoti_songs_df['lyrics'] = lyrics_list\n",
    "    return spoti_songs_df"
   ]
  },
  {
   "cell_type": "code",
   "execution_count": null,
   "id": "6688762f",
   "metadata": {},
   "outputs": [],
   "source": [
    "get_df_with_lyrics(spoti_songs_df_30s)"
   ]
  }
 ],
 "metadata": {
  "kernelspec": {
   "display_name": "Python 3 (ipykernel)",
   "language": "python",
   "name": "python3"
  },
  "language_info": {
   "codemirror_mode": {
    "name": "ipython",
    "version": 3
   },
   "file_extension": ".py",
   "mimetype": "text/x-python",
   "name": "python",
   "nbconvert_exporter": "python",
   "pygments_lexer": "ipython3",
   "version": "3.9.7"
  },
  "toc": {
   "base_numbering": 1,
   "nav_menu": {},
   "number_sections": true,
   "sideBar": true,
   "skip_h1_title": false,
   "title_cell": "Table of Contents",
   "title_sidebar": "Contents",
   "toc_cell": false,
   "toc_position": {},
   "toc_section_display": true,
   "toc_window_display": false
  }
 },
 "nbformat": 4,
 "nbformat_minor": 5
}
