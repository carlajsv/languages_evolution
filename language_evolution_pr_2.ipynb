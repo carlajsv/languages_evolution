{
 "cells": [
  {
   "cell_type": "code",
   "execution_count": null,
   "id": "042d702b",
   "metadata": {},
   "outputs": [],
   "source": [
    "from bs4 import BeautifulSoup\n",
    "import requests\n",
    "import re"
   ]
  },
  {
   "cell_type": "code",
   "execution_count": null,
   "id": "dfd484e4",
   "metadata": {},
   "outputs": [],
   "source": [
    "url_dave = 'https://davesmusicdatabase.blogspot.com/2014/08/top-100-songs-from-1980-to-1989.html'\n",
    "headers = {\"User-Agent\": 'Mozilla/5.0 (Macintosh; Intel Mac OS X 10_11_5) AppleWebKit/537.36 (KHTML, like Gecko) Chrome/50.0.2661.102 Safari/537.36'}\n",
    "\n",
    "response = requests.get(url_dave, headers=headers)\n",
    "\n",
    "response.status_code"
   ]
  },
  {
   "cell_type": "code",
   "execution_count": null,
   "id": "377fb56f",
   "metadata": {},
   "outputs": [],
   "source": [
    "soup = BeautifulSoup(response.content)\n",
    "soup\n"
   ]
  },
  {
   "cell_type": "code",
   "execution_count": null,
   "id": "b0a70c58",
   "metadata": {},
   "outputs": [],
   "source": [
    "#Obtengo un set de los tags presentes en el tag 'p'\n",
    "tags = soup.find_all(name=\"p\")\n",
    "\n",
    "#Separa en elementos de una lista las canciones.\n",
    "songs_30s = tags[5].text.split('\\n')\n",
    "\n",
    "#Elimina los espacios de los extremos de cada elemento de la lista si\n",
    "#los hubiese y devuelve una lista nueva con cada elemento\n",
    "list_songs_30s = [i.strip() for i in songs_30s]\n",
    "\n",
    "#Elimina los elementos vacios de la lista\n",
    "list_songs_30s = list(filter(None, list_songs_30s))\n",
    "#songs_30s = songs.split('\\n')\n",
    "\n",
    "list_songs_30s\n",
    "tags[6]"
   ]
  },
  {
   "cell_type": "code",
   "execution_count": null,
   "id": "0aed0b0e",
   "metadata": {},
   "outputs": [],
   "source": [
    "def list_songs_url(url):\n",
    "    headers = {\"User-Agent\": 'Mozilla/5.0 (Macintosh; Intel Mac OS X 10_11_5) AppleWebKit/537.36 (KHTML, like Gecko) Chrome/50.0.2661.102 Safari/537.36'}\n",
    "    response = requests.get(url, headers=headers)\n",
    "    soup = BeautifulSoup(response.content)\n",
    "    tags = soup.find_all(name=\"p\")\n",
    "    \n",
    "    #Separa en elementos de una lista las canciones.\n",
    "    songs = tags[5].text.split('\\n')\n",
    "    \n",
    "    #Elimina los espacios de los extremos de cada elemento de la lista si\n",
    "    #los hubiese y devuelve una lista nueva con cada elemento\n",
    "    songs = [i.strip() for i in songs]\n",
    "    \n",
    "    #Elimina los elementos vacios de la lista\n",
    "    songs = list(filter(None, songs))\n",
    "    return songs\n",
    "\n",
    "list_songs_url(url_dave)"
   ]
  },
  {
   "cell_type": "code",
   "execution_count": null,
   "id": "4774664a",
   "metadata": {},
   "outputs": [],
   "source": [
    "url_dave_70s = 'https://davesmusicdatabase.blogspot.com/2014/08/top-songs-from-1970-1979.html?m=0'\n",
    "\n",
    "list_70s = list_songs_url(url_dave_70s)\n",
    "list_70s"
   ]
  },
  {
   "cell_type": "code",
   "execution_count": null,
   "id": "653d6ea6",
   "metadata": {},
   "outputs": [],
   "source": [
    "test_str = '81. The Peanut Vendor (El Manisero)...Don Azpiazu with Antonio Machin (1930)'\n",
    "test_str_70s = '1. “Stand by Me” Ben E. King (1961)'\n",
    "test_url_90s = 'https://davesmusicdatabase.blogspot.com/2014/08/top-songs-from-1990-to-1999.html'\n",
    "\n",
    "#Recibe un string y devuelve el a;o de el string de la cancion\n",
    "def extract_year(song_string):\n",
    "    return song_string[-5:-1]\n",
    "\n",
    "extract_year(test_str)"
   ]
  },
  {
   "cell_type": "code",
   "execution_count": null,
   "id": "1e0bcd96",
   "metadata": {
    "scrolled": true
   },
   "outputs": [],
   "source": [
    "#Recibe un string y devuelve el orden de la cancion\n",
    "def extract_order(song_string):\n",
    "    return song_string[:3].replace('.','').strip()\n",
    "\n",
    "extract_order(test_str)"
   ]
  },
  {
   "cell_type": "code",
   "execution_count": null,
   "id": "fba62ed0",
   "metadata": {},
   "outputs": [],
   "source": [
    "#Recibe un string y devuelve el titulo de la cancion\n",
    "def extract_title(song_string):\n",
    "    title_1 = re.findall('\\d+.\\s(.*)(?:\\.\\.\\.|\\…)',song_string)\n",
    "    \n",
    "    if title_1:\n",
    "        return title_1[0]\n",
    "    \n",
    "    title_2 = re.findall('“(.*?)”', song_string)\n",
    "    \n",
    "    if title_2:\n",
    "        return title_2[0]\n",
    "    \n",
    "    return ''\n",
    "\n",
    "\n",
    "#test\n",
    "for i in list_70s:\n",
    "    song_70 = extract_title(i)\n",
    "    print(song_70)"
   ]
  },
  {
   "cell_type": "code",
   "execution_count": null,
   "id": "fb3571ef",
   "metadata": {},
   "outputs": [],
   "source": [
    "#Recibe un string y devuelve el autor de la cancion\n",
    "def extract_author(song_string):\n",
    "    author_1 = re.findall('(?:\\.\\.\\.|\\…)(.*)\\(',song_string)\n",
    "    \n",
    "    if author_1:\n",
    "        return author_1[0]\n",
    "    \n",
    "    author_2 = re.findall('”\\s(.*)\\s\\(',song_string)\n",
    "    if author_2 == ' ':\n",
    "        pass\n",
    "    \n",
    "    if author_2:\n",
    "        return author_2[0]\n",
    "    \n",
    "    author_3 = re.findall('\\.\\s(.*)\\s“',song_string)\n",
    "    if author_3:\n",
    "        return author_3[0]\n",
    "\n",
    "#test\n",
    "for i in list_70s:\n",
    "    author_70 = extract_author(i)\n",
    "    print(author_70)"
   ]
  },
  {
   "cell_type": "code",
   "execution_count": null,
   "id": "70c6865c",
   "metadata": {},
   "outputs": [],
   "source": [
    "def extract_decade(song_string):\n",
    "    return extract_year(song_string)[:3] + '0'\n",
    "\n",
    "#test\n",
    "extract_decade(test_str)"
   ]
  },
  {
   "cell_type": "code",
   "execution_count": null,
   "id": "8278d2db",
   "metadata": {},
   "outputs": [],
   "source": [
    "def ext_data_songs(url_dave):\n",
    "    list_songs_dave = list_songs_url(url_dave)\n",
    "    formated_songs = []\n",
    "    for i in list_songs_dave:\n",
    "        decade = extract_decade(i)\n",
    "        year = extract_year(i)\n",
    "        title = extract_title(i)\n",
    "        author = extract_author(i)\n",
    "        order = extract_order(i)\n",
    "        \n",
    "        song = {\n",
    "            'decade':decade,\n",
    "            'year':year,\n",
    "            'title':title,\n",
    "            'author':author,\n",
    "            'order':order,\n",
    "        }\n",
    "        formated_songs.append(song)\n",
    "    return formated_songs\n",
    "\n",
    "test = ext_data_songs(url_dave)\n",
    "test"
   ]
  },
  {
   "cell_type": "code",
   "execution_count": null,
   "id": "00ec3ff0",
   "metadata": {},
   "outputs": [],
   "source": []
  },
  {
   "cell_type": "code",
   "execution_count": null,
   "id": "5c76c7eb",
   "metadata": {},
   "outputs": [],
   "source": [
    "url_dave_00s = 'https://davesmusicdatabase.blogspot.com/2017/10/the-top-100-songs-from-2000-2009.html'\n",
    "url_dave_20s = 'https://davesmusicdatabase.blogspot.com/2014/07/top-100-songs-from-1920-1929.html'\n",
    "url_dave_30s = 'https://davesmusicdatabase.blogspot.com/2014/07/top-100-songs-of-1930-1939.html'\n",
    "url_dave_40s = 'https://davesmusicdatabase.blogspot.com/2014/07/top-100-songs-from-1940-1949.html'\n",
    "url_dave_50s = 'https://davesmusicdatabase.blogspot.com/2014/07/top-100-songs-from-1950-to-1959.html'\n",
    "url_dave_60s = 'https://davesmusicdatabase.blogspot.com/2014/08/top-100-songs-from-1960-1969_2.html'\n",
    "url_dave_70s = 'https://davesmusicdatabase.blogspot.com/2014/08/top-songs-from-1970-1979.html?m=0'\n",
    "url_dave_80s = 'https://davesmusicdatabase.blogspot.com/2014/08/top-100-songs-from-1980-to-1989.html'\n",
    "url_dave_90s = 'https://davesmusicdatabase.blogspot.com/2014/08/top-songs-from-1990-to-1999.html'\n",
    "url_dave_2010s = 'https://davesmusicdatabase.blogspot.com/2017/10/the-top-50-songs-from-2010-2016.html'\n",
    "\n",
    "dicc_00s = ext_data_songs(url_dave_00s)\n",
    "dicc_20s = ext_data_songs(url_dave_20s)\n",
    "dicc_30s = ext_data_songs(url_dave_30s)\n",
    "dicc_40s = ext_data_songs(url_dave_40s)\n",
    "dicc_50s = ext_data_songs(url_dave_50s)\n",
    "dicc_60s = ext_data_songs(url_dave_60s)\n",
    "dicc_70s = ext_data_songs(url_dave_70s)\n",
    "dicc_80s = ext_data_songs(url_dave_80s)\n",
    "dicc_90s = ext_data_songs(url_dave_90s)\n",
    "dicc_2010s = ext_data_songs(url_dave_2010s)\n",
    "\n",
    "dicc_00s"
   ]
  },
  {
   "cell_type": "code",
   "execution_count": null,
   "id": "b2c840f6",
   "metadata": {
    "scrolled": true
   },
   "outputs": [],
   "source": [
    "dicc_20s"
   ]
  },
  {
   "cell_type": "code",
   "execution_count": null,
   "id": "a4444d5d",
   "metadata": {},
   "outputs": [],
   "source": [
    "dicc_30s"
   ]
  },
  {
   "cell_type": "code",
   "execution_count": null,
   "id": "130da517",
   "metadata": {},
   "outputs": [],
   "source": [
    "dicc_40s"
   ]
  },
  {
   "cell_type": "code",
   "execution_count": null,
   "id": "871c42bc",
   "metadata": {},
   "outputs": [],
   "source": [
    "dicc_50s"
   ]
  },
  {
   "cell_type": "code",
   "execution_count": null,
   "id": "7a9729d0",
   "metadata": {},
   "outputs": [],
   "source": [
    "dicc_60s"
   ]
  },
  {
   "cell_type": "code",
   "execution_count": null,
   "id": "7706445e",
   "metadata": {},
   "outputs": [],
   "source": [
    "dicc_70s"
   ]
  },
  {
   "cell_type": "code",
   "execution_count": null,
   "id": "058f08b1",
   "metadata": {},
   "outputs": [],
   "source": [
    "dicc_80s"
   ]
  },
  {
   "cell_type": "code",
   "execution_count": null,
   "id": "0d8a2224",
   "metadata": {},
   "outputs": [],
   "source": [
    "dicc_90s"
   ]
  },
  {
   "cell_type": "code",
   "execution_count": null,
   "id": "43c5f790",
   "metadata": {},
   "outputs": [],
   "source": [
    "dicc_2010s"
   ]
  },
  {
   "cell_type": "code",
   "execution_count": null,
   "id": "f21dee1e",
   "metadata": {},
   "outputs": [],
   "source": [
    "#BuenosDias"
   ]
  }
 ],
 "metadata": {
  "kernelspec": {
   "display_name": "Python 3 (ipykernel)",
   "language": "python",
   "name": "python3"
  },
  "language_info": {
   "codemirror_mode": {
    "name": "ipython",
    "version": 3
   },
   "file_extension": ".py",
   "mimetype": "text/x-python",
   "name": "python",
   "nbconvert_exporter": "python",
   "pygments_lexer": "ipython3",
   "version": "3.9.7"
  },
  "toc": {
   "base_numbering": 1,
   "nav_menu": {},
   "number_sections": true,
   "sideBar": true,
   "skip_h1_title": false,
   "title_cell": "Table of Contents",
   "title_sidebar": "Contents",
   "toc_cell": false,
   "toc_position": {},
   "toc_section_display": true,
   "toc_window_display": false
  }
 },
 "nbformat": 4,
 "nbformat_minor": 5
}
