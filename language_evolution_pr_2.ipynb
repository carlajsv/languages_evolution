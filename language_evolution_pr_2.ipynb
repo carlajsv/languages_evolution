{
 "cells": [
  {
   "cell_type": "markdown",
   "id": "a537ff12",
   "metadata": {},
   "source": [
    "# Import libraries"
   ]
  },
  {
   "cell_type": "code",
   "execution_count": null,
   "id": "042d702b",
   "metadata": {},
   "outputs": [],
   "source": [
    "import lyricsgenius\n",
    "from bs4 import BeautifulSoup\n",
    "import requests\n",
    "import re\n",
    "import pandas as pd\n",
    "import numpy as np\n",
    "import spotipy\n",
    "from spotipy.oauth2 import SpotifyClientCredentials\n"
   ]
  },
  {
   "cell_type": "markdown",
   "id": "52543cae",
   "metadata": {},
   "source": [
    "# Creating Database"
   ]
  },
  {
   "cell_type": "markdown",
   "id": "c9be844f",
   "metadata": {},
   "source": [
    "## Dave database"
   ]
  },
  {
   "cell_type": "code",
   "execution_count": null,
   "id": "0b992d6a",
   "metadata": {},
   "outputs": [],
   "source": [
    "\n",
    "def list_songs_url80s(url):\n",
    "    \"\"\"\n",
    "    Esta función recibe el URL asociado a la base de datos de dave del top 100 canciones en inglés unicamente de\n",
    "    los 80, como string y devuelve una lista de las 100 canciones de esta decada.\n",
    "    \n",
    "    \"\"\"\n",
    "    headers = {\"User-Agent\": 'Mozilla/5.0 (Macintosh; Intel Mac OS X 10_11_5) AppleWebKit/537.36 (KHTML, like Gecko) Chrome/50.0.2661.102 Safari/537.36'}\n",
    "    response = requests.get(url, headers=headers)\n",
    "    soup = BeautifulSoup(response.content)\n",
    "    #Obtengo un set de los tags presentes en el tag 'p'\n",
    "    tags = soup.find_all(name=\"p\")\n",
    "    \n",
    "    #Separa en elementos de una lista las canciones.\n",
    "    songs = ''.join(i.text for i in tags[12:22]).split('\\n')\n",
    "    \n",
    "    #Elimina los espacios de los extremos de cada elemento de la lista si\n",
    "    #los hubiese y devuelve una lista nueva con cada elemento\n",
    "    songs = [i.strip() for i in songs]\n",
    "    \n",
    "    #Elimina los elementos vacios de la lista\n",
    "    songs = list(filter(None, songs))\n",
    "    return songs\n",
    "\n",
    "#test\n",
    "\n",
    "test_80 = 'https://davesmusicdatabase.blogspot.com/2014/08/top-100-songs-from-1980-to-1989.html'\n",
    "list_songs_url80s(test_80)"
   ]
  },
  {
   "cell_type": "code",
   "execution_count": null,
   "id": "0aed0b0e",
   "metadata": {},
   "outputs": [],
   "source": [
    "def list_songs_url(url):\n",
    "    \"\"\"\n",
    "    Esta función recibe un URL asociado a las bases de datos de dave del top 100 canciones en inglés de cada\n",
    "    década, como string y devuelve una lista de las 100 canciones de esta decada.\n",
    "    Nota: no sirve para la década de los 80\n",
    "    \n",
    "    \"\"\"\n",
    "    headers = {\"User-Agent\": 'Mozilla/5.0 (Macintosh; Intel Mac OS X 10_11_5) AppleWebKit/537.36 (KHTML, like Gecko) Chrome/50.0.2661.102 Safari/537.36'}\n",
    "    response = requests.get(url, headers=headers)\n",
    "    soup = BeautifulSoup(response.content)\n",
    "    #Obtengo un set de los tags presentes en el tag 'p'\n",
    "    tags = soup.find_all(name=\"p\")\n",
    "    \n",
    "    #Separa en elementos de una lista las canciones.\n",
    "    songs = ''.join(i.text for i in tags[5:15]).split('\\n')\n",
    "    \n",
    "    #Elimina los espacios de los extremos de cada elemento de la lista si\n",
    "    #los hubiese y devuelve una lista nueva con cada elemento\n",
    "    songs = [i.strip() for i in songs]\n",
    "    \n",
    "    #Elimina los elementos vacios de la lista\n",
    "    songs = list(filter(None, songs))\n",
    "    return songs\n",
    "\n",
    "#test\n",
    "url_dave_30s = \"https://davesmusicdatabase.blogspot.com/2014/07/top-100-songs-of-1930-1939.html\"\n",
    "list_songs_url(test_80)"
   ]
  },
  {
   "cell_type": "code",
   "execution_count": null,
   "id": "653d6ea6",
   "metadata": {},
   "outputs": [],
   "source": [
    "test_str = '81. The Peanut Vendor (El Manisero)...Don Azpiazu with Antonio Machin (1930)'\n",
    "\n",
    "#Recibe un string y devuelve el a;o de el string de la cancion\n",
    "def extract_year(song_string):\n",
    "    return song_string[-5:-1]\n",
    "\n",
    "extract_year(test_str)"
   ]
  },
  {
   "cell_type": "code",
   "execution_count": null,
   "id": "f6bcb94f",
   "metadata": {},
   "outputs": [],
   "source": [
    "#Recibe un string y devuelve el a;o de el string de la cancion\n",
    "def extract_decade(song_string):\n",
    "    return extract_year(song_string)[:3] + '0'\n",
    "\n",
    "extract_decade(test_str)"
   ]
  },
  {
   "cell_type": "code",
   "execution_count": null,
   "id": "1e0bcd96",
   "metadata": {},
   "outputs": [],
   "source": [
    "#Recibe un string y devuelve el orden de la cancion\n",
    "def extract_order(song_string):\n",
    "    return song_string[:3].replace('.','').strip()\n",
    "\n",
    "extract_order(test_str)"
   ]
  },
  {
   "cell_type": "code",
   "execution_count": null,
   "id": "fba62ed0",
   "metadata": {},
   "outputs": [],
   "source": [
    "#Recibe un string y devuelve el titulo de la cancion\n",
    "def extract_title(song_string):\n",
    "    title_1 = re.findall('\\d+.\\s(.*)(?:\\.\\.\\.|\\…)',song_string)\n",
    "    \n",
    "    if title_1:\n",
    "        return title_1[0]\n",
    "    \n",
    "    title_2 = re.findall('“(.*?)”', song_string)\n",
    "    \n",
    "    if title_2:\n",
    "        return title_2[0]\n",
    "    \n",
    "    return ''\n",
    "\n",
    "\n",
    "#test\n",
    "url_dave_70s = 'https://davesmusicdatabase.blogspot.com/2014/08/top-songs-from-1970-1979.html?m=0'\n",
    "\n",
    "list_70s = list_songs_url(url_dave_70s)\n",
    "list_70s\n",
    "\n",
    "for i in list_70s:\n",
    "    song_70 = extract_title(i)\n",
    "    print(song_70)"
   ]
  },
  {
   "cell_type": "code",
   "execution_count": null,
   "id": "fb3571ef",
   "metadata": {},
   "outputs": [],
   "source": [
    "#Recibe un string y devuelve el autor de la cancion\n",
    "def extract_author(song_string):\n",
    "    author_1 = re.findall('(?:\\.\\.\\.|\\…)(.*)\\(',song_string)\n",
    "    \n",
    "    if author_1:\n",
    "        return author_1[0]\n",
    "    \n",
    "    author_2 = re.findall('”\\s(.*)\\s\\(',song_string)\n",
    "    if author_2 == ' ':\n",
    "        pass\n",
    "    \n",
    "    if author_2:\n",
    "        return author_2[0]\n",
    "    \n",
    "    author_3 = re.findall('\\.\\s(.*)\\s“',song_string)\n",
    "    if author_3:\n",
    "        return author_3[0]\n",
    "\n",
    "#test\n",
    "for i in list_70s:\n",
    "    author_70 = extract_author(i)\n",
    "    print(author_70)"
   ]
  },
  {
   "cell_type": "code",
   "execution_count": null,
   "id": "8278d2db",
   "metadata": {},
   "outputs": [],
   "source": [
    "def ext_data_songs(url_dave):\n",
    "    list_songs_dave = list_songs_url(url_dave)\n",
    "    if list_songs_dave[0].endswith('Database.'):\n",
    "        list_songs_dave = list_songs_url80s(url_dave)\n",
    "        \n",
    "    formated_songs = []\n",
    "    for i in list_songs_dave:\n",
    "        decade = extract_decade(i)\n",
    "        year = extract_year(i)\n",
    "        title = extract_title(i)\n",
    "        author = extract_author(i)\n",
    "        order = extract_order(i)\n",
    "        \n",
    "        song = {\n",
    "            'decade':decade,\n",
    "            'year':year,\n",
    "            'title':title,\n",
    "            'author':author,\n",
    "            'order':order,\n",
    "        }\n",
    "        formated_songs.append(song)\n",
    "    return formated_songs\n",
    "\n",
    "ext_data_songs(test_80)"
   ]
  },
  {
   "cell_type": "code",
   "execution_count": null,
   "id": "4dded79e",
   "metadata": {},
   "outputs": [],
   "source": [
    "url_dave_00s = 'https://davesmusicdatabase.blogspot.com/2017/10/the-top-100-songs-from-2000-2009.html'\n",
    "url_dave_20s = 'https://davesmusicdatabase.blogspot.com/2014/07/top-100-songs-from-1920-1929.html'\n",
    "url_dave_30s = 'https://davesmusicdatabase.blogspot.com/2014/07/top-100-songs-of-1930-1939.html'\n",
    "url_dave_40s = 'https://davesmusicdatabase.blogspot.com/2014/07/top-100-songs-from-1940-1949.html'\n",
    "url_dave_50s = 'https://davesmusicdatabase.blogspot.com/2014/07/top-100-songs-from-1950-to-1959.html'\n",
    "url_dave_60s = 'https://davesmusicdatabase.blogspot.com/2014/08/top-100-songs-from-1960-1969_2.html'\n",
    "url_dave_70s = 'https://davesmusicdatabase.blogspot.com/2014/08/top-songs-from-1970-1979.html?m=0'\n",
    "url_dave_80s = 'https://davesmusicdatabase.blogspot.com/2014/08/top-100-songs-from-1980-to-1989.html'\n",
    "url_dave_90s = 'https://davesmusicdatabase.blogspot.com/2014/08/top-songs-from-1990-to-1999.html'\n",
    "url_dave_2010s = 'https://davesmusicdatabase.blogspot.com/2017/10/the-top-50-songs-from-2010-2016.html'\n",
    "\n",
    "dicc_00s = ext_data_songs(url_dave_00s)\n",
    "dicc_20s = ext_data_songs(url_dave_20s)\n",
    "dicc_30s = ext_data_songs(url_dave_30s)\n",
    "dicc_40s = ext_data_songs(url_dave_40s)\n",
    "dicc_50s = ext_data_songs(url_dave_50s)\n",
    "dicc_60s = ext_data_songs(url_dave_60s)\n",
    "dicc_70s = ext_data_songs(url_dave_70s)\n",
    "dicc_80s = ext_data_songs(url_dave_80s)\n",
    "dicc_90s = ext_data_songs(url_dave_90s)\n",
    "dicc_2010s = ext_data_songs(url_dave_2010s)\n",
    "\n",
    "dicc_00s"
   ]
  },
  {
   "cell_type": "code",
   "execution_count": null,
   "id": "d248c991",
   "metadata": {},
   "outputs": [],
   "source": []
  },
  {
   "cell_type": "code",
   "execution_count": null,
   "id": "f61f45bf",
   "metadata": {},
   "outputs": [],
   "source": [
    "df_00s = pd.DataFrame(dicc_00s)\n",
    "df_20s = pd.DataFrame(dicc_20s)\n",
    "df_30s = pd.DataFrame(dicc_30s)\n",
    "df_40s = pd.DataFrame(dicc_40s)\n",
    "df_50s = pd.DataFrame(dicc_50s)\n",
    "df_60s = pd.DataFrame(dicc_60s)\n",
    "df_70s = pd.DataFrame(dicc_70s)\n",
    "df_80s = pd.DataFrame(dicc_80s)\n",
    "df_90s = pd.DataFrame(dicc_90s)\n",
    "df_2010s = pd.DataFrame(dicc_2010s)"
   ]
  },
  {
   "cell_type": "code",
   "execution_count": null,
   "id": "013b3cec",
   "metadata": {},
   "outputs": [],
   "source": [
    "df_dave_songs = pd.concat([df_00s, df_20s, df_30s, df_40s, df_50s, df_60s, df_70s, df_80s, df_90s, df_2010s], axis=0, join='inner')\n",
    "df_dave_songs"
   ]
  },
  {
   "cell_type": "code",
   "execution_count": null,
   "id": "3e451b07",
   "metadata": {},
   "outputs": [],
   "source": [
    "df_dave_songs.to_csv('/Users/carlasanchezvalles/ironhack/Proyectos/Proyecto_2/dave_songs.csv', index=False)\n"
   ]
  },
  {
   "cell_type": "markdown",
   "id": "e0748ea0",
   "metadata": {},
   "source": [
    "# Spotify"
   ]
  },
  {
   "cell_type": "code",
   "execution_count": null,
   "id": "577c0b39",
   "metadata": {},
   "outputs": [],
   "source": [
    "def first_search_spoti(title, author):\n",
    "    \n",
    "    sp = spotipy.Spotify(auth_manager=SpotifyClientCredentials(\n",
    "        client_id=\"00e41fa4725d4469b29d9e36f43d7ec9\",\n",
    "        client_secret=\"e64b15d24085495283f18937da5452d3\")\n",
    "                        )\n",
    "    search = sp.search(title + ' ' + author, market='US')\n",
    "    \n",
    "    tracks = search['tracks']\n",
    "    \n",
    "    df = pd.json_normalize(tracks['items'])\n",
    "    \n",
    "    df = df[['id', 'name', 'popularity', 'artists', 'album.name', 'external_urls.spotify', 'uri', 'explicit', 'album.release_date', 'duration_ms']]\n",
    "    \n",
    "    df['artists'] = df.artists.apply(lambda d: d[0]['name'])\n",
    "    \n",
    "    return df.head(1)"
   ]
  },
  {
   "cell_type": "code",
   "execution_count": null,
   "id": "3dba445e",
   "metadata": {},
   "outputs": [],
   "source": [
    "def songs_to_spoti_df(songs_df):\n",
    "    lista = []\n",
    "\n",
    "    for i in range(len(songs_df)):\n",
    "        try:\n",
    "            search = first_search_spoti(songs_df.loc[i, \"title\"], songs_df.loc[i, \"author\"])\n",
    "            lista.append(search)\n",
    "        except KeyError:\n",
    "            pass\n",
    "    \n",
    "    return pd.concat(lista, axis=0)\n",
    "\n",
    "\n",
    "df_30s_spoti = songs_to_spoti_df(df_30s)"
   ]
  },
  {
   "cell_type": "markdown",
   "id": "55b85b70",
   "metadata": {},
   "source": [
    "# Genius"
   ]
  },
  {
   "cell_type": "code",
   "execution_count": null,
   "id": "50e74b7e",
   "metadata": {},
   "outputs": [],
   "source": [
    "def get_song_lyrics(artist_name, song_name):\n",
    "    \n",
    "    genius = lyricsgenius.Genius(\n",
    "        'v3s3cdBYSN4Kta3F2HDTmdqqNOckKEZTQA5O5Bhb5J-BV_L02jqPGCEnvpKsSrBz')\n",
    "    \n",
    "    artist = genius.search_artist(artist_name, max_songs=0, sort=\"title\")\n",
    "    \n",
    "    song = artist.song(song_name)\n",
    "    \n",
    "    return re.sub(\"[\\(\\[].*?[\\)\\]]\", \"\", song.lyrics.replace('\\n', ' ')).lower().replace('lyrics','').replace('embed','')"
   ]
  },
  {
   "cell_type": "code",
   "execution_count": null,
   "id": "c1e76675",
   "metadata": {},
   "outputs": [],
   "source": [
    "def add_lyrics_to_df(spoti_songs_df):\n",
    "    \n",
    "    genius = lyricsgenius.Genius(\n",
    "        'v3s3cdBYSN4Kta3F2HDTmdqqNOckKEZTQA5O5Bhb5J-BV_L02jqPGCEnvpKsSrBz')\n",
    "        \n",
    "    lyrics_list = []\n",
    "\n",
    "    for artist, song in zip(spoti_songs_df['artists'], spoti_songs_df['name']):\n",
    "        try:\n",
    "            lyrics_list.append(get_song_lyrics(artist, song))\n",
    "        except AttributeError:\n",
    "            lyrics_list.append('None')\n",
    "    \n",
    "    spoti_songs_df['lyrics'] = lyrics_list\n",
    "    \n",
    "    return spoti_songs_df"
   ]
  },
  {
   "cell_type": "code",
   "execution_count": null,
   "id": "ac366c5a",
   "metadata": {},
   "outputs": [],
   "source": [
    "def add_word_list_to_df(df_with_lyrics):\n",
    "    \n",
    "    genius = lyricsgenius.Genius(\n",
    "        'v3s3cdBYSN4Kta3F2HDTmdqqNOckKEZTQA5O5Bhb5J-BV_L02jqPGCEnvpKsSrBz')\n",
    "        \n",
    "    df_with_lyrics['list_of_words'] = [i.split(' ') for i in df_with_lyrics['lyrics']]\n",
    "    \n",
    "    return df_with_lyrics"
   ]
  }
 ],
 "metadata": {
  "kernelspec": {
   "display_name": "Python 3 (ipykernel)",
   "language": "python",
   "name": "python3"
  },
  "language_info": {
   "codemirror_mode": {
    "name": "ipython",
    "version": 3
   },
   "file_extension": ".py",
   "mimetype": "text/x-python",
   "name": "python",
   "nbconvert_exporter": "python",
   "pygments_lexer": "ipython3",
   "version": "3.9.7"
  },
  "toc": {
   "base_numbering": 1,
   "nav_menu": {},
   "number_sections": true,
   "sideBar": true,
   "skip_h1_title": false,
   "title_cell": "Table of Contents",
   "title_sidebar": "Contents",
   "toc_cell": false,
   "toc_position": {},
   "toc_section_display": true,
   "toc_window_display": false
  }
 },
 "nbformat": 4,
 "nbformat_minor": 5
}
